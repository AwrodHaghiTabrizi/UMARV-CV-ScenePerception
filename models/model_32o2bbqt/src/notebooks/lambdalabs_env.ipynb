{
 "cells": [
  {
   "cell_type": "markdown",
   "metadata": {},
   "source": [
    "Import Libraries"
   ]
  },
  {
   "cell_type": "code",
   "execution_count": null,
   "metadata": {
    "colab": {
     "base_uri": "https://localhost:8080/"
    },
    "id": "6YXxEdBDMFwU",
    "outputId": "6309c12d-63f7-4f18-c2d3-a4dcdf549342"
   },
   "outputs": [],
   "source": [
    "import os\n",
    "import sys\n",
    "from getpass import getpass\n",
    "import torch.optim as optim\n",
    "!pip install dropbox > /dev/null"
   ]
  },
  {
   "cell_type": "markdown",
   "metadata": {},
   "source": [
    "Configure Environment"
   ]
  },
  {
   "cell_type": "code",
   "execution_count": null,
   "metadata": {},
   "outputs": [],
   "source": [
    "os.environ[\"ENVIRONMENT\"] = \"lambda\"\n",
    "os.environ[\"REPO_DIR\"] = \"/home/ubuntu/UMARV-CV-ScenePerception\"\n",
    "os.environ[\"ROOT_DIR\"] = \"/home/ubuntu\"\n",
    "os.environ[\"MODEL_ID\"] = \"32o2bbqt\"\n",
    "os.environ[\"MODEL_DIR\"] = f\"{os.getenv('REPO_DIR')}/models/model_{os.getenv('MODEL_ID')}\""
   ]
  },
  {
   "cell_type": "markdown",
   "metadata": {
    "id": "TWu7wpa8IRD1"
   },
   "source": [
    "Configure git"
   ]
  },
  {
   "cell_type": "code",
   "execution_count": null,
   "metadata": {
    "colab": {
     "base_uri": "https://localhost:8080/"
    },
    "id": "EXXt5L25_kb6",
    "outputId": "f35ff01b-795d-4866-c9d1-67061edcfa63"
   },
   "outputs": [],
   "source": [
    "# Fill in your GitHub branch\n",
    "git_branch = \"\""
   ]
  },
  {
   "cell_type": "code",
   "execution_count": null,
   "metadata": {},
   "outputs": [],
   "source": [
    "while not git_branch:\n",
    "    git_branch = input(\"Enter your branch: \")\n",
    "\n",
    "git_repo_url = \"https://github.com/AwrodHaghiTabrizi/UMARV-CV-ScenePerception.git\"\n",
    "!git clone -b $git_branch $git_repo_url\n",
    "%cd \"{os.getenv('REPO_DIR')}\""
   ]
  },
  {
   "cell_type": "markdown",
   "metadata": {},
   "source": [
    "Import Repository Resources"
   ]
  },
  {
   "cell_type": "code",
   "execution_count": null,
   "metadata": {},
   "outputs": [],
   "source": [
    "sys.path.insert(0, f\"{os.getenv('REPO_DIR')}/src\")\n",
    "from helpers import *\n",
    "\n",
    "sys.path.insert(0, f\"{os.getenv('MODEL_DIR')}/src\")\n",
    "from methods import *\n",
    "from architecture import *\n",
    "from dataset import *"
   ]
  },
  {
   "cell_type": "markdown",
   "metadata": {},
   "source": [
    "Download Datasets"
   ]
  },
  {
   "cell_type": "code",
   "execution_count": null,
   "metadata": {},
   "outputs": [],
   "source": [
    "dbx_access_token = getpass(\"Enter your DropBox access token: \")"
   ]
  },
  {
   "cell_type": "code",
   "execution_count": null,
   "metadata": {},
   "outputs": [],
   "source": [
    "# Set to True if datasets need to be downloaded to your google drive\n",
    "download_datasets = False\n",
    "\n",
    "if download_datasets:\n",
    "    download_datasets_from_dropbox(\n",
    "        dbx_access_token = dbx_access_token,\n",
    "        include_all_datasets = False,\n",
    "        use_thread = True\n",
    "    )"
   ]
  },
  {
   "cell_type": "markdown",
   "metadata": {
    "id": "xh4-Gg6vL2R3"
   },
   "source": [
    "Code"
   ]
  },
  {
   "cell_type": "code",
   "execution_count": 5,
   "metadata": {
    "id": "0t0BM_lS_6yq"
   },
   "outputs": [],
   "source": [
    "num_epochs = 150\n",
    "batch_size = 10\n",
    "val_batch_size = 10\n",
    "val_ratio = 0.2                         # Percent of training set used for validation\n",
    "lookback = {\"count\": 0, \"stride\": 1}    # Prior frames model has access to"
   ]
  },
  {
   "cell_type": "code",
   "execution_count": null,
   "metadata": {},
   "outputs": [],
   "source": [
    "device = set_device()\n",
    "model = initialize_model(\n",
    "    device = device,\n",
    "    dbx_access_token = dbx_access_token,\n",
    "    lookback = lookback,\n",
    "    reset_weights = False\n",
    ")\n",
    "\n",
    "train_dataset, val_dataset = create_datasets(\n",
    "    device = device,\n",
    "    include_all_datasets = False,\n",
    "    include_real_world_datasets = True,\n",
    "    val_ratio = val_ratio,\n",
    "    lookback = lookback\n",
    ")\n",
    "\n",
    "train_dataloader, val_dataloader = create_dataloaders(\n",
    "    train_dataset = train_dataset,\n",
    "    val_dataset = val_dataset,\n",
    "    batch_size = batch_size,\n",
    "    val_batch_size = val_batch_size\n",
    ")\n",
    "\n",
    "optimizer = optim.SGD(model.parameters(), lr=0.01, momentum=0.9)\n",
    "criterion = nn.CrossEntropyLoss()"
   ]
  },
  {
   "cell_type": "code",
   "execution_count": null,
   "metadata": {},
   "outputs": [],
   "source": [
    "model, train_loss_hist, val_performance_hist, best_val_performance = training_loop(\n",
    "    model = model,\n",
    "    criterion = criterion,\n",
    "    optimizer = optimizer,\n",
    "    train_dataloader = train_dataloader,\n",
    "    val_dataloader = val_dataloader,\n",
    "    val_dataset = val_dataset,\n",
    "    dbx_access_token = dbx_access_token,\n",
    "    num_epochs = num_epochs,\n",
    "    critiqueing_metric = \"Accuracy\",\n",
    "    upload_weights_to_dropbox = True,\n",
    "    auto_stop = False,\n",
    "    verbose = True,\n",
    "    display_sample_results = False\n",
    ")"
   ]
  },
  {
   "cell_type": "code",
   "execution_count": null,
   "metadata": {},
   "outputs": [],
   "source": [
    "graph_loss_history(train_loss_hist)\n",
    "\n",
    "graph_performance_history(\n",
    "    performance_hist = val_performance_hist,\n",
    "    split = \"Val\",\n",
    "    metrics = [\"Accuracy\", \"Mean IoU\"]\n",
    ")\n",
    "\n",
    "show_sample_results(\n",
    "    model = model,\n",
    "    dataset = val_dataset,\n",
    "    device = device,\n",
    "    num_samples = 2\n",
    ")"
   ]
  },
  {
   "cell_type": "code",
   "execution_count": null,
   "metadata": {},
   "outputs": [],
   "source": [
    "test_model_on_benchmarks(\n",
    "    model = model,\n",
    "    device = device,\n",
    "    all_benchmarks = True,\n",
    "    num_sample_results = 2,\n",
    "    lookback = lookback\n",
    ")"
   ]
  },
  {
   "cell_type": "markdown",
   "metadata": {
    "id": "VrQ0WCEMLLEE"
   },
   "source": [
    "Push Changes (when ready)"
   ]
  },
  {
   "cell_type": "code",
   "execution_count": null,
   "metadata": {},
   "outputs": [],
   "source": [
    "# Fill in GitHub user info\n",
    "git_username = \"\"\n",
    "git_email = \"\""
   ]
  },
  {
   "cell_type": "code",
   "execution_count": null,
   "metadata": {},
   "outputs": [],
   "source": [
    "while not git_username:\n",
    "    git_username = input(\"Username left empty.\\nGitHub username: \")\n",
    "while not git_email:\n",
    "    git_email = input(\"Email left empty.\\nGitHub email: \")\n",
    "\n",
    "!git config --global user.name $git_username\n",
    "!git config --global user.email $git_email\n",
    "\n",
    "git_access_token = getpass(\"Enter your GitHub access token: \")\n",
    "\n",
    "git_push_url = f\"https://{git_username}:{git_access_token}@{git_repo_url.replace('https://','')}\"\n",
    "\n",
    "commit_message = input(\"Commit message: \")\n",
    "while not commit_message:\n",
    "    commit_message = input(\"Commit message cannot be empty\\nCommit message: \")\n",
    "\n",
    "!git add .\n",
    "!git commit -m \"{commit_message}\"\n",
    "!git push $git_push_url $git_branch"
   ]
  }
 ],
 "metadata": {
  "colab": {
   "provenance": []
  },
  "kernelspec": {
   "display_name": "Python 3",
   "name": "python3"
  },
  "language_info": {
   "name": "python"
  }
 },
 "nbformat": 4,
 "nbformat_minor": 0
}
