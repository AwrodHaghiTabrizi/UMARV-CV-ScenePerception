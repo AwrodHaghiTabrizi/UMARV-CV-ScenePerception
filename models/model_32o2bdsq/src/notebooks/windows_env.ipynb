{
 "cells": [
  {
   "cell_type": "markdown",
   "metadata": {},
   "source": [
    "Import libraries"
   ]
  },
  {
   "cell_type": "code",
   "execution_count": 4,
   "metadata": {
    "colab": {
     "base_uri": "https://localhost:8080/"
    },
    "id": "6YXxEdBDMFwU",
    "outputId": "6309c12d-63f7-4f18-c2d3-a4dcdf549342"
   },
   "outputs": [],
   "source": [
    "import os\n",
    "import sys\n",
    "from getpass import getpass\n",
    "import git\n",
    "import torch.optim as optim"
   ]
  },
  {
   "cell_type": "markdown",
   "metadata": {},
   "source": [
    "Configure Environment"
   ]
  },
  {
   "cell_type": "code",
   "execution_count": 5,
   "metadata": {},
   "outputs": [],
   "source": [
    "os.environ[\"ENVIRONMENT\"] = \"windows\"\n",
    "os.environ[\"REPO_DIR\"] = git.Repo(search_parent_directories=True).git.rev_parse(\"--show-toplevel\")\n",
    "os.environ[\"ROOT_DIR\"] = os.path.abspath(os.path.join(os.getenv(\"REPO_DIR\"), os.pardir))\n",
    "os.environ[\"MODEL_ID\"] = \"32o2bdsq\"\n",
    "os.environ[\"MODEL_DIR\"] = f\"{os.getenv('REPO_DIR')}/models/model_{os.getenv('MODEL_ID')}\""
   ]
  },
  {
   "cell_type": "markdown",
   "metadata": {},
   "source": [
    "Import Repository Resources"
   ]
  },
  {
   "cell_type": "code",
   "execution_count": 6,
   "metadata": {},
   "outputs": [],
   "source": [
    "sys.path.insert(0, f\"{os.getenv('REPO_DIR')}/src\")\n",
    "from helpers import *\n",
    "\n",
    "sys.path.insert(0, f\"{os.getenv('MODEL_DIR')}/src\")\n",
    "from methods import *\n",
    "from architecture import *\n",
    "from dataset import *"
   ]
  },
  {
   "cell_type": "markdown",
   "metadata": {},
   "source": [
    "Download Datasets"
   ]
  },
  {
   "cell_type": "code",
   "execution_count": 7,
   "metadata": {},
   "outputs": [],
   "source": [
    "dbx_access_token = getpass(\"Enter your DropBox access token: \")"
   ]
  },
  {
   "cell_type": "code",
   "execution_count": 8,
   "metadata": {},
   "outputs": [
    {
     "data": {
      "application/vnd.jupyter.widget-view+json": {
       "model_id": "32f698fb22394268961a9676393d9b1e",
       "version_major": 2,
       "version_minor": 0
      },
      "text/plain": [
       "Downloading /UMARV/ComputerVision/ScenePerception/datasets//real_world/comp24_puddle ::   0%|          | 0/2 […"
      ]
     },
     "metadata": {},
     "output_type": "display_data"
    },
    {
     "data": {
      "application/vnd.jupyter.widget-view+json": {
       "model_id": "8098aafba2004ce79828c4e60b94c637",
       "version_major": 2,
       "version_minor": 0
      },
      "text/plain": [
       "Downloading /UMARV/ComputerVision/ScenePerception/datasets/real_world/comp24_puddle/data ::   0%|          | 0…"
      ]
     },
     "metadata": {},
     "output_type": "display_data"
    },
    {
     "data": {
      "application/vnd.jupyter.widget-view+json": {
       "model_id": "3bc3cccf19eb4aa78435cafa2e6ec2ea",
       "version_major": 2,
       "version_minor": 0
      },
      "text/plain": [
       "Downloading /UMARV/ComputerVision/ScenePerception/datasets/real_world/comp24_puddle/label ::   0%|          | …"
      ]
     },
     "metadata": {},
     "output_type": "display_data"
    },
    {
     "data": {
      "application/vnd.jupyter.widget-view+json": {
       "model_id": "964b184d61424ebbb745825c865c170e",
       "version_major": 2,
       "version_minor": 0
      },
      "text/plain": [
       "Downloading /UMARV/ComputerVision/ScenePerception/datasets/real_world/comp24_puddle/label/background ::   0%| …"
      ]
     },
     "metadata": {},
     "output_type": "display_data"
    },
    {
     "data": {
      "application/vnd.jupyter.widget-view+json": {
       "model_id": "58c3a28c0ff4429f9c54c4012222ebaa",
       "version_major": 2,
       "version_minor": 0
      },
      "text/plain": [
       "Downloading /UMARV/ComputerVision/ScenePerception/datasets/real_world/comp24_puddle/label/cones ::   0%|      …"
      ]
     },
     "metadata": {},
     "output_type": "display_data"
    },
    {
     "data": {
      "application/vnd.jupyter.widget-view+json": {
       "model_id": "fc91b9684d9e4fc6a37e3579cda08bca",
       "version_major": 2,
       "version_minor": 0
      },
      "text/plain": [
       "Downloading /UMARV/ComputerVision/ScenePerception/datasets/real_world/comp24_puddle/label/drivable_area ::   0…"
      ]
     },
     "metadata": {},
     "output_type": "display_data"
    },
    {
     "data": {
      "application/vnd.jupyter.widget-view+json": {
       "model_id": "d5eea9578714465a89770c900e9bc8f1",
       "version_major": 2,
       "version_minor": 0
      },
      "text/plain": [
       "Downloading /UMARV/ComputerVision/ScenePerception/datasets/real_world/comp24_puddle/label/lane_lines ::   0%| …"
      ]
     },
     "metadata": {},
     "output_type": "display_data"
    },
    {
     "data": {
      "application/vnd.jupyter.widget-view+json": {
       "model_id": "7574dfd2b8d34ccd8b206ae515fc0a85",
       "version_major": 2,
       "version_minor": 0
      },
      "text/plain": [
       "Downloading /UMARV/ComputerVision/ScenePerception/datasets//benchmarks/unfinished_comp23_4_mini_benchmark ::  …"
      ]
     },
     "metadata": {},
     "output_type": "display_data"
    },
    {
     "data": {
      "application/vnd.jupyter.widget-view+json": {
       "model_id": "e8be1deca857440792a11a68f864a0ce",
       "version_major": 2,
       "version_minor": 0
      },
      "text/plain": [
       "Downloading /UMARV/ComputerVision/ScenePerception/datasets/benchmarks/UNFINISHED_comp23_4_mini_benchmark/label…"
      ]
     },
     "metadata": {},
     "output_type": "display_data"
    },
    {
     "data": {
      "application/vnd.jupyter.widget-view+json": {
       "model_id": "bcce93ae76914e118c5c7552da01deac",
       "version_major": 2,
       "version_minor": 0
      },
      "text/plain": [
       "Downloading /UMARV/ComputerVision/ScenePerception/datasets/benchmarks/UNFINISHED_comp23_4_mini_benchmark/data …"
      ]
     },
     "metadata": {},
     "output_type": "display_data"
    },
    {
     "data": {
      "application/vnd.jupyter.widget-view+json": {
       "model_id": "e980fd23e5cc4323be6c74b43ce29cce",
       "version_major": 2,
       "version_minor": 0
      },
      "text/plain": [
       "Downloading /UMARV/ComputerVision/ScenePerception/datasets/benchmarks/UNFINISHED_comp23_4_mini_benchmark/label…"
      ]
     },
     "metadata": {},
     "output_type": "display_data"
    },
    {
     "data": {
      "application/vnd.jupyter.widget-view+json": {
       "model_id": "51dfaa0726ef424d802d943e84d26706",
       "version_major": 2,
       "version_minor": 0
      },
      "text/plain": [
       "Downloading /UMARV/ComputerVision/ScenePerception/datasets/benchmarks/UNFINISHED_comp23_4_mini_benchmark/label…"
      ]
     },
     "metadata": {},
     "output_type": "display_data"
    },
    {
     "data": {
      "application/vnd.jupyter.widget-view+json": {
       "model_id": "8c30a82f2f804b008082f764ca684ce8",
       "version_major": 2,
       "version_minor": 0
      },
      "text/plain": [
       "Downloading /UMARV/ComputerVision/ScenePerception/datasets/benchmarks/UNFINISHED_comp23_4_mini_benchmark/label…"
      ]
     },
     "metadata": {},
     "output_type": "display_data"
    },
    {
     "data": {
      "application/vnd.jupyter.widget-view+json": {
       "model_id": "f27c6d13d93f47bbb46cd17d189a4758",
       "version_major": 2,
       "version_minor": 0
      },
      "text/plain": [
       "Downloading /UMARV/ComputerVision/ScenePerception/datasets/benchmarks/UNFINISHED_comp23_4_mini_benchmark/label…"
      ]
     },
     "metadata": {},
     "output_type": "display_data"
    },
    {
     "data": {
      "application/vnd.jupyter.widget-view+json": {
       "model_id": "580abe6dcc7c4738b6be1df907dd0b8f",
       "version_major": 2,
       "version_minor": 0
      },
      "text/plain": [
       "Downloading /UMARV/ComputerVision/ScenePerception/datasets//benchmarks/comp24_walkthrough ::   0%|          | …"
      ]
     },
     "metadata": {},
     "output_type": "display_data"
    },
    {
     "data": {
      "application/vnd.jupyter.widget-view+json": {
       "model_id": "9223b6f7dbae4e64b84f0f3b5c5a2cd4",
       "version_major": 2,
       "version_minor": 0
      },
      "text/plain": [
       "Downloading /UMARV/ComputerVision/ScenePerception/datasets/benchmarks/comp24_walkthrough/label ::   0%|       …"
      ]
     },
     "metadata": {},
     "output_type": "display_data"
    },
    {
     "data": {
      "application/vnd.jupyter.widget-view+json": {
       "model_id": "df2ef51c216d4328a6ab6155ee35aa29",
       "version_major": 2,
       "version_minor": 0
      },
      "text/plain": [
       "Downloading /UMARV/ComputerVision/ScenePerception/datasets/benchmarks/comp24_walkthrough/data ::   0%|        …"
      ]
     },
     "metadata": {},
     "output_type": "display_data"
    },
    {
     "data": {
      "application/vnd.jupyter.widget-view+json": {
       "model_id": "1e229a385e7942759c65cb2efae90707",
       "version_major": 2,
       "version_minor": 0
      },
      "text/plain": [
       "Downloading /UMARV/ComputerVision/ScenePerception/datasets/benchmarks/comp24_walkthrough/label/drivable_area :…"
      ]
     },
     "metadata": {},
     "output_type": "display_data"
    },
    {
     "data": {
      "application/vnd.jupyter.widget-view+json": {
       "model_id": "ba5743cfb2e74c609f8eb5080bb5a2ab",
       "version_major": 2,
       "version_minor": 0
      },
      "text/plain": [
       "Downloading /UMARV/ComputerVision/ScenePerception/datasets/benchmarks/comp24_walkthrough/label/background ::  …"
      ]
     },
     "metadata": {},
     "output_type": "display_data"
    },
    {
     "data": {
      "application/vnd.jupyter.widget-view+json": {
       "model_id": "7fd927532b44497a818368a3f9cb849e",
       "version_major": 2,
       "version_minor": 0
      },
      "text/plain": [
       "Downloading /UMARV/ComputerVision/ScenePerception/datasets/benchmarks/comp24_walkthrough/label/lane_lines ::  …"
      ]
     },
     "metadata": {},
     "output_type": "display_data"
    },
    {
     "data": {
      "application/vnd.jupyter.widget-view+json": {
       "model_id": "42e01c7b6bd44829a0cda035c8626d2c",
       "version_major": 2,
       "version_minor": 0
      },
      "text/plain": [
       "Downloading /UMARV/ComputerVision/ScenePerception/datasets/benchmarks/comp24_walkthrough/label/cones ::   0%| …"
      ]
     },
     "metadata": {},
     "output_type": "display_data"
    }
   ],
   "source": [
    "# Set to True if datasets need to be downloaded to your local machine\n",
    "download_datasets = True\n",
    "\n",
    "if download_datasets:\n",
    "    download_datasets_from_dropbox(\n",
    "        dbx_access_token = dbx_access_token,\n",
    "        use_thread = True\n",
    "    )"
   ]
  },
  {
   "cell_type": "markdown",
   "metadata": {
    "id": "xh4-Gg6vL2R3"
   },
   "source": [
    "Code"
   ]
  },
  {
   "cell_type": "code",
   "execution_count": null,
   "metadata": {
    "id": "0t0BM_lS_6yq"
   },
   "outputs": [],
   "source": [
    "num_epochs = 150\n",
    "batch_size = 10\n",
    "val_batch_size = 10\n",
    "val_ratio = 0.2                         # Percent of training set used for validation\n",
    "lookback = {\"count\": 0, \"stride\": 1}    # Prior frames model has access to"
   ]
  },
  {
   "cell_type": "code",
   "execution_count": null,
   "metadata": {},
   "outputs": [],
   "source": [
    "device = set_device()\n",
    "model = initialize_model(\n",
    "    device = device,\n",
    "    dbx_access_token = dbx_access_token,\n",
    "    lookback = lookback,\n",
    "    reset_weights = False\n",
    ")\n",
    "\n",
    "train_dataset, val_dataset = create_datasets(\n",
    "    device = device,\n",
    "    include_all_datasets = False,\n",
    "    include_real_world_datasets = True,\n",
    "    val_ratio = val_ratio,\n",
    "    lookback = lookback\n",
    ")\n",
    "\n",
    "train_dataloader, val_dataloader = create_dataloaders(\n",
    "    train_dataset = train_dataset,\n",
    "    val_dataset = val_dataset,\n",
    "    batch_size = batch_size,\n",
    "    val_batch_size = val_batch_size\n",
    ")\n",
    "\n",
    "optimizer = optim.SGD(model.parameters(), lr=0.01, momentum=0.9)\n",
    "criterion = nn.CrossEntropyLoss()"
   ]
  },
  {
   "cell_type": "code",
   "execution_count": null,
   "metadata": {},
   "outputs": [],
   "source": [
    "model, train_loss_hist, val_performance_hist, best_val_performance = training_loop(\n",
    "    model = model,\n",
    "    criterion = criterion,\n",
    "    optimizer = optimizer,\n",
    "    train_dataloader = train_dataloader,\n",
    "    val_dataloader = val_dataloader,\n",
    "    val_dataset = val_dataset,\n",
    "    dbx_access_token = dbx_access_token,\n",
    "    num_epochs = num_epochs,\n",
    "    critiqueing_metric = \"Accuracy\",\n",
    "    upload_weights_to_dropbox = True,\n",
    "    auto_stop = False,\n",
    "    verbose = True,\n",
    "    display_sample_results = False\n",
    ")"
   ]
  },
  {
   "cell_type": "code",
   "execution_count": null,
   "metadata": {},
   "outputs": [],
   "source": [
    "graph_loss_history(train_loss_hist)\n",
    "\n",
    "graph_performance_history(\n",
    "    performance_hist = val_performance_hist,\n",
    "    split = \"Val\",\n",
    "    metrics = [\"Accuracy\", \"Mean IoU\"]\n",
    ")\n",
    "\n",
    "show_sample_results(\n",
    "    model = model,\n",
    "    dataset = val_dataset,\n",
    "    device = device,\n",
    "    num_samples = 2\n",
    ")"
   ]
  },
  {
   "cell_type": "code",
   "execution_count": null,
   "metadata": {},
   "outputs": [],
   "source": [
    "test_model_on_benchmarks(\n",
    "    model = model,\n",
    "    device = device,\n",
    "    all_benchmarks = True,\n",
    "    num_sample_results = 2,\n",
    "    lookback = lookback\n",
    ")"
   ]
  }
 ],
 "metadata": {
  "colab": {
   "provenance": []
  },
  "kernelspec": {
   "display_name": "Python 3",
   "name": "python3"
  },
  "language_info": {
   "codemirror_mode": {
    "name": "ipython",
    "version": 3
   },
   "file_extension": ".py",
   "mimetype": "text/x-python",
   "name": "python",
   "nbconvert_exporter": "python",
   "pygments_lexer": "ipython3",
   "version": "3.11.4"
  }
 },
 "nbformat": 4,
 "nbformat_minor": 0
}
